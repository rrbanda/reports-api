{
 "cells": [
  {
   "cell_type": "markdown",
   "id": "ea3fc6b6",
   "metadata": {},
   "source": [
    "# API Interaction Notebook\n",
    "\n",
    "This notebook automates the setup and interaction with the FastAPI service and MongoDB database. It performs the following tasks:\n",
    "\n",
    "1. **Start MongoDB** using Docker.\n",
    "2. **Start FastAPI** using `uvicorn` in a subprocess.\n",
    "3. **Perform CRUD operations** on patient records.\n",
    "4. **Shut down** both services gracefully."
   ]
  },
  {
   "cell_type": "code",
   "execution_count": 1,
   "id": "fbb0ece5",
   "metadata": {},
   "outputs": [],
   "source": [
    "# Import necessary libraries\n",
    "import subprocess\n",
    "import time\n",
    "import requests\n",
    "import json\n",
    "import docker\n",
    "from docker.errors import APIError, NotFound\n",
    "import os\n",
    "\n",
    "# Suppress insecure request warnings (optional)\n",
    "import urllib3\n",
    "urllib3.disable_warnings(urllib3.exceptions.InsecureRequestWarning)"
   ]
  },
  {
   "cell_type": "markdown",
   "id": "9e3ce787",
   "metadata": {},
   "source": [
    "## 1. Start MongoDB Using Docker"
   ]
  },
  {
   "cell_type": "code",
   "execution_count": 2,
   "id": "64fc9463",
   "metadata": {},
   "outputs": [],
   "source": [
    "# Function to start MongoDB container\n",
    "def start_mongodb_container(container_name=\"mongodb\", port=27017, db_name=\"patient_db\"):\n",
    "    client = docker.from_env()\n",
    "    try:\n",
    "        # Check if container already exists\n",
    "        container = client.containers.get(container_name)\n",
    "        print(f\"Container '{container_name}' already exists. Starting it...\")\n",
    "        container.start()\n",
    "    except NotFound:\n",
    "        print(f\"Container '{container_name}' not found. Creating and starting it...\")\n",
    "        try:\n",
    "            container = client.containers.run(\n",
    "                \"mongo:latest\",\n",
    "                name=container_name,\n",
    "                ports={\"27017/tcp\": port},\n",
    "                environment={\"MONGO_INITDB_DATABASE\": db_name},\n",
    "                detach=True\n",
    "            )\n",
    "            print(f\"MongoDB container '{container_name}' started.\")\n",
    "        except APIError as e:\n",
    "            print(f\"Failed to start MongoDB container: {e.explanation}\")\n",
    "            raise e\n",
    "    return container\n",
    "\n",
    "# Start MongoDB\n",
    "mongodb_container = start_mongodb_container()\n",
    "\n",
    "# Wait for MongoDB to initialize\n",
    "print(\"Waiting for MongoDB to initialize...\")\n",
    "time.sleep(10)  # Adjust if necessary\n",
    "print(\"MongoDB is ready.\")"
   ]
  },
  {
   "cell_type": "markdown",
   "id": "5c748a0e",
   "metadata": {},
   "source": [
    "## 2. Start FastAPI Service Using `uvicorn` in a Subprocess"
   ]
  },
  {
   "cell_type": "code",
   "execution_count": 3,
   "id": "5aaaca9c",
   "metadata": {},
   "outputs": [],
   "source": [
    "# Function to start FastAPI using uvicorn\n",
    "def start_fastapi(host=\"0.0.0.0\", port=8000):\n",
    "    # Ensure the virtual environment is activated and FastAPI app is accessible\n",
    "    cmd = [\"uvicorn\", \"app.main:app\", \"--host\", host, \"--port\", str(port), \"--reload\"]\n",
    "    process = subprocess.Popen(cmd, stdout=subprocess.PIPE, stderr=subprocess.PIPE)\n",
    "    print(\"FastAPI service started.\")\n",
    "    return process\n",
    "\n",
    "# Start FastAPI\n",
    "fastapi_process = start_fastapi()\n",
    "\n",
    "# Wait for FastAPI to start\n",
    "print(\"Waiting for FastAPI to start...\")\n",
    "time.sleep(5)  # Adjust if necessary\n",
    "print(\"FastAPI is ready.\")"
   ]
  },
  {
   "cell_type": "markdown",
   "id": "9cb18e9e",
   "metadata": {},
   "source": [
    "## 3. Perform CRUD Operations via FastAPI"
   ]
  },
  {
   "cell_type": "code",
   "execution_count": 4,
   "id": "9e6a06fb",
   "metadata": {},
   "outputs": [],
   "source": [
    "# Define the base URL of the API\n",
    "BASE_URL = \"http://localhost:8000\""
   ]
  },
  {
   "cell_type": "markdown",
   "id": "6c4ea40a",
   "metadata": {},
   "source": [
    "### 3.1. Create a New Patient Record"
   ]
  },
  {
   "cell_type": "code",
   "execution_count": 5,
   "id": "c445b64e",
   "metadata": {},
   "outputs": [
    {
     "name": "stdout",
     "output_type": "stream",
     "text": [
      "Patient record created successfully:\n",
      "{\n",
      "    \"study_id\": \"61928-1.2.250.1.118.3.1305.235.1.8008.46.1727122139\",\n",
      "    \"info\": {\n",
      "        \"PatientID\": \"71054xfdsar\",\n",
      "        \"PatientName\": \"SMITH^JANE\",\n",
      "        \"PatientAge\": \"012Y\",\n",
      "        \"StudyDate\": \"20240923\"\n",
      "    },\n",
      "    \"femur\": {\n",
      "        \"Right femur\": \"41.8 cm\",\n",
      "        \"Left femur\": \"42.0 cm\",\n",
      "        \"Difference\": \"00.2 cm, left longer 0.5%\"\n",
      "    },\n",
      "    \"tibia\": {\n",
      "        \"Right tibia\": \"34.5 cm\",\n",
      "        \"Left tibia\": \"34.3 cm\",\n",
      "        \"Difference\": \"00.2 cm, right longer 0.6%\"\n",
      "    },\n",
      "    \"total\": {\n",
      "        \"Total right\": \"76.3 cm\",\n",
      "        \"Total left\": \"76.3 cm\",\n",
      "        \"Difference\": \"00.0 cm, equal 0.0%\"\n",
      "    },\n",
      "    \"pixel_distance\": {\n",
      "        \"Left femur\": 1892,\n",
      "        \"Left tibia\": 1544,\n",
      "        \"Right femur\": 1886,\n",
      "        \"Right tibia\": 1555\n",
      "    },\n",
      "    \"details\": {\n",
      "        \"AccessionNumber\": \"100876169\",\n",
      "        \"StudyDescription\": \"XR HIPS TO ANKLES LEG MEASUREMENTS\",\n",
      "        \"SeriesDescription\": \"Lower limbs\",\n",
      "        \"BodyPartExamined\": \"LEG\",\n",
      "        \"FieldOfViewDimensions\": \"[975, 391]\",\n",
      "        \"StationName\": \"EOSRM7\"\n",
      "    }\n",
      "}\n"
     ]
    }
   ],
   "source": [
    "# Define a new patient record\n",
    "new_record = {\n",
    "    \"study_id\": \"61928-1.2.250.1.118.3.1305.235.1.8008.46.1727122139\",\n",
    "    \"info\": {\n",
    "        \"PatientID\": \"71054xfdsar\",\n",
    "        \"PatientName\": \"SMITH^JANE\",\n",
    "        \"PatientAge\": \"012Y\",\n",
    "        \"StudyDate\": \"20240923\"\n",
    "    },\n",
    "    \"femur\": {\n",
    "        \"Right femur\": \"41.8 cm\",\n",
    "        \"Left femur\": \"42.0 cm\",\n",
    "        \"Difference\": \"00.2 cm, left longer 0.5%\"\n",
    "    },\n",
    "    \"tibia\": {\n",
    "        \"Right tibia\": \"34.5 cm\",\n",
    "        \"Left tibia\": \"34.3 cm\",\n",
    "        \"Difference\": \"00.2 cm, right longer 0.6%\"\n",
    "    },\n",
    "    \"total\": {\n",
    "        \"Total right\": \"76.3 cm\",\n",
    "        \"Total left\": \"76.3 cm\",\n",
    "        \"Difference\": \"00.0 cm, equal 0.0%\"\n",
    "    },\n",
    "    \"pixel_distance\": {\n",
    "        \"Left femur\": 1892,\n",
    "        \"Left tibia\": 1544,\n",
    "        \"Right femur\": 1886,\n",
    "        \"Right tibia\": 1555\n",
    "    },\n",
    "    \"details\": {\n",
    "        \"AccessionNumber\": \"100876169\",\n",
    "        \"StudyDescription\": \"XR HIPS TO ANKLES LEG MEASUREMENTS\",\n",
    "        \"SeriesDescription\": \"Lower limbs\",\n",
    "        \"BodyPartExamined\": \"LEG\",\n",
    "        \"FieldOfViewDimensions\": \"[975, 391]\",\n",
    "        \"StationName\": \"EOSRM7\"\n",
    "    }\n",
    "}\n",
    "\n",
    "# Send POST request to create a new patient record\n",
    "response = requests.post(f\"{BASE_URL}/patients/\", json=new_record)\n",
    "\n",
    "if response.status_code == 201:\n",
    "    print(\"Patient record created successfully:\")\n",
    "    print(json.dumps(response.json(), indent=4))\n",
    "else:\n",
    "    print(\"Error creating patient record:\", response.text)"
   ]
  },
  {
   "cell_type": "markdown",
   "id": "d3f53898",
   "metadata": {},
   "source": [
    "### 3.2. Get Patient Record by Study ID"
   ]
  },
  {
   "cell_type": "code",
   "execution_count": 6,
   "id": "104c1749",
   "metadata": {},
   "outputs": [
    {
     "name": "stdout",
     "output_type": "stream",
     "text": [
      "Details of patient record 61928-1.2.250.1.118.3.1305.235.1.8008.46.1727122139:\n",
      "{\n",
      "    \"study_id\": \"61928-1.2.250.1.118.3.1305.235.1.8008.46.1727122139\",\n",
      "    \"info\": {\n",
      "        \"PatientID\": \"71054xfdsar\",\n",
      "        \"PatientName\": \"SMITH^JANE\",\n",
      "        \"PatientAge\": \"012Y\",\n",
      "        \"StudyDate\": \"20240923\"\n",
      "    },\n",
      "    \"femur\": {\n",
      "        \"Right femur\": \"41.8 cm\",\n",
      "        \"Left femur\": \"42.0 cm\",\n",
      "        \"Difference\": \"00.2 cm, left longer 0.5%\"\n",
      "    },\n",
      "    \"tibia\": {\n",
      "        \"Right tibia\": \"34.5 cm\",\n",
      "        \"Left tibia\": \"34.3 cm\",\n",
      "        \"Difference\": \"00.2 cm, right longer 0.6%\"\n",
      "    },\n",
      "    \"total\": {\n",
      "        \"Total right\": \"76.3 cm\",\n",
      "        \"Total left\": \"76.3 cm\",\n",
      "        \"Difference\": \"00.0 cm, equal 0.0%\"\n",
      "    },\n",
      "    \"pixel_distance\": {\n",
      "        \"Left femur\": 1892,\n",
      "        \"Left tibia\": 1544,\n",
      "        \"Right femur\": 1886,\n",
      "        \"Right tibia\": 1555\n",
      "    },\n",
      "    \"details\": {\n",
      "        \"AccessionNumber\": \"100876169\",\n",
      "        \"StudyDescription\": \"XR HIPS TO ANKLES LEG MEASUREMENTS\",\n",
      "        \"SeriesDescription\": \"Lower limbs\",\n",
      "        \"BodyPartExamined\": \"LEG\",\n",
      "        \"FieldOfViewDimensions\": \"[975, 391]\",\n",
      "        \"StationName\": \"EOSRM7\"\n",
      "    }\n",
      "}\n"
     ]
    }
   ],
   "source": [
    "# Define the study_id to retrieve\n",
    "study_id = \"61928-1.2.250.1.118.3.1305.235.1.8008.46.1727122139\"\n",
    "\n",
    "# Send GET request to retrieve the patient record\n",
    "response = requests.get(f\"{BASE_URL}/patients/{study_id}\")\n",
    "\n",
    "if response.status_code == 200:\n",
    "    print(f\"Details of patient record {study_id}:\")\n",
    "    print(json.dumps(response.json(), indent=4))\n",
    "else:\n",
    "    print(\"Error fetching patient record:\", response.text)"
   ]
  },
  {
   "cell_type": "markdown",
   "id": "fe04e10c",
   "metadata": {},
   "source": [
    "### 3.3. Update Patient Record"
   ]
  },
  {
   "cell_type": "code",
   "execution_count": 7,
   "id": "fdac2d20",
   "metadata": {},
   "outputs": [
    {
     "name": "stdout",
     "output_type": "stream",
     "text": [
      "Patient record updated successfully:\n",
      "{\n",
      "    \"study_id\": \"61928-1.2.250.1.118.3.1305.235.1.8008.46.1727122139\",\n",
      "    \"info\": {\n",
      "        \"PatientID\": \"71054xfdsar\",\n",
      "        \"PatientName\": \"SMITH^JANE\",\n",
      "        \"PatientAge\": \"013Y\",\n",
      "        \"StudyDate\": \"20240923\"\n",
      "    },\n",
      "    \"femur\": {\n",
      "        \"Right femur\": \"41.9 cm\",\n",
      "        \"Left femur\": \"42.1 cm\",\n",
      "        \"Difference\": \"00.2 cm, left longer 0.5%\"\n",
      "    },\n",
      "    \"tibia\": {\n",
      "        \"Right tibia\": \"34.6 cm\",\n",
      "        \"Left tibia\": \"34.4 cm\",\n",
      "        \"Difference\": \"00.2 cm, right longer 0.6%\"\n",
      "    },\n",
      "    \"total\": {\n",
      "        \"Total right\": \"76.5 cm\",\n",
      "        \"Total left\": \"76.5 cm\",\n",
      "        \"Difference\": \"00.0 cm, equal 0.0%\"\n",
      "    },\n",
      "    \"pixel_distance\": {\n",
      "        \"Left femur\": 1900,\n",
      "        \"Left tibia\": 1550,\n",
      "        \"Right femur\": 1890,\n",
      "        \"Right tibia\": 1560\n",
      "    },\n",
      "    \"details\": {\n",
      "        \"AccessionNumber\": \"100876169\",\n",
      "        \"StudyDescription\": \"XR HIPS TO ANKLES LEG MEASUREMENTS\",\n",
      "        \"SeriesDescription\": \"Lower limbs\",\n",
      "        \"BodyPartExamined\": \"LEG\",\n",
      "        \"FieldOfViewDimensions\": \"[975, 391]\",\n",
      "        \"StationName\": \"EOSRM7\"\n",
      "    }\n",
      "}\n"
     ]
    }
   ],
   "source": [
    "# Define the updated patient record\n",
    "updated_record = {\n",
    "    \"study_id\": \"61928-1.2.250.1.118.3.1305.235.1.8008.46.1727122139\",\n",
    "    \"info\": {\n",
    "        \"PatientID\": \"71054xfdsar\",\n",
    "        \"PatientName\": \"SMITH^JANE\",\n",
    "        \"PatientAge\": \"013Y\",  # Updated age\n",
    "        \"StudyDate\": \"20240923\"\n",
    "    },\n",
    "    \"femur\": {\n",
    "        \"Right femur\": \"41.9 cm\",  # Updated measurement\n",
    "        \"Left femur\": \"42.1 cm\",\n",
    "        \"Difference\": \"00.2 cm, left longer 0.5%\"\n",
    "    },\n",
    "    \"tibia\": {\n",
    "        \"Right tibia\": \"34.6 cm\",\n",
    "        \"Left tibia\": \"34.4 cm\",\n",
    "        \"Difference\": \"00.2 cm, right longer 0.6%\"\n",
    "    },\n",
    "    \"total\": {\n",
    "        \"Total right\": \"76.5 cm\",\n",
    "        \"Total left\": \"76.5 cm\",\n",
    "        \"Difference\": \"00.0 cm, equal 0.0%\"\n",
    "    },\n",
    "    \"pixel_distance\": {\n",
    "        \"Left femur\": 1900,\n",
    "        \"Left tibia\": 1550,\n",
    "        \"Right femur\": 1890,\n",
    "        \"Right tibia\": 1560\n",
    "    },\n",
    "    \"details\": {\n",
    "        \"AccessionNumber\": \"100876169\",\n",
    "        \"StudyDescription\": \"XR HIPS TO ANKLES LEG MEASUREMENTS\",\n",
    "        \"SeriesDescription\": \"Lower limbs\",\n",
    "        \"BodyPartExamined\": \"LEG\",\n",
    "        \"FieldOfViewDimensions\": \"[975, 391]\",\n",
    "        \"StationName\": \"EOSRM7\"\n",
    "    }\n",
    "}\n",
    "\n",
    "# Send PUT request to update the patient record\n",
    "response = requests.put(f\"{BASE_URL}/patients/{study_id}\", json=updated_record)\n",
    "\n",
    "if response.status_code == 200:\n",
    "    print(\"Patient record updated successfully:\")\n",
    "    print(json.dumps(response.json(), indent=4))\n",
    "else:\n",
    "    print(\"Error updating patient record:\", response.text)"
   ]
  },
  {
   "cell_type": "markdown",
   "id": "af6b189c",
   "metadata": {},
   "source": [
    "### 3.4. List All Patient Records"
   ]
  },
  {
   "cell_type": "code",
   "execution_count": 8,
   "id": "9340fbf4",
   "metadata": {},
   "outputs": [
    {
     "name": "stdout",
     "output_type": "stream",
     "text": [
      "List of all patient records:\n",
      "[\n",
      "    {\n",
      "        \"study_id\": \"61928-1.2.250.1.118.3.1305.235.1.8008.46.1727122139\",\n",
      "        \"info\": {\n",
      "            \"PatientID\": \"71054xfdsar\",\n",
      "            \"PatientName\": \"SMITH^JANE\",\n",
      "            \"PatientAge\": \"013Y\",\n",
      "            \"StudyDate\": \"20240923\"\n",
      "        },\n",
      "        \"femur\": {\n",
      "            \"Right femur\": \"41.9 cm\",\n",
      "            \"Left femur\": \"42.1 cm\",\n",
      "            \"Difference\": \"00.2 cm, left longer 0.5%\"\n",
      "        },\n",
      "        \"tibia\": {\n",
      "            \"Right tibia\": \"34.6 cm\",\n",
      "            \"Left tibia\": \"34.4 cm\",\n",
      "            \"Difference\": \"00.2 cm, right longer 0.6%\"\n",
      "        },\n",
      "        \"total\": {\n",
      "            \"Total right\": \"76.5 cm\",\n",
      "            \"Total left\": \"76.5 cm\",\n",
      "            \"Difference\": \"00.0 cm, equal 0.0%\"\n",
      "        },\n",
      "        \"pixel_distance\": {\n",
      "            \"Left femur\": 1900,\n",
      "            \"Left tibia\": 1550,\n",
      "            \"Right femur\": 1890,\n",
      "            \"Right tibia\": 1560\n",
      "        },\n",
      "        \"details\": {\n",
      "            \"AccessionNumber\": \"100876169\",\n",
      "            \"StudyDescription\": \"XR HIPS TO ANKLES LEG MEASUREMENTS\",\n",
      "            \"SeriesDescription\": \"Lower limbs\",\n",
      "            \"BodyPartExamined\": \"LEG\",\n",
      "            \"FieldOfViewDimensions\": \"[975, 391]\",\n",
      "            \"StationName\": \"EOSRM7\"\n",
      "        }\n",
      "    }\n",
      "]\n"
     ]
    }
   ],
   "source": [
    "# Send GET request to list all patient records\n",
    "response = requests.get(f\"{BASE_URL}/patients/\")\n",
    "\n",
    "if response.status_code == 200:\n",
    "    print(\"List of all patient records:\")\n",
    "    print(json.dumps(response.json(), indent=4))\n",
    "else:\n",
    "    print(\"Error listing patient records:\", response.text)"
   ]
  },
  {
   "cell_type": "markdown",
   "id": "c5956901",
   "metadata": {},
   "source": [
    "### 3.5. List Patient Records Filtered by PatientID"
   ]
  },
  {
   "cell_type": "code",
   "execution_count": 9,
   "id": "f0108e90",
   "metadata": {},
   "outputs": [
    {
     "name": "stdout",
     "output_type": "stream",
     "text": [
      "List of patient records for PatientID 71054xfdsar:\n",
      "[\n",
      "    {\n",
      "        \"study_id\": \"61928-1.2.250.1.118.3.1305.235.1.8008.46.1727122139\",\n",
      "        \"info\": {\n",
      "            \"PatientID\": \"71054xfdsar\",\n",
      "            \"PatientName\": \"SMITH^JANE\",\n",
      "            \"PatientAge\": \"013Y\",\n",
      "            \"StudyDate\": \"20240923\"\n",
      "        },\n",
      "        \"femur\": {\n",
      "            \"Right femur\": \"41.9 cm\",\n",
      "            \"Left femur\": \"42.1 cm\",\n",
      "            \"Difference\": \"00.2 cm, left longer 0.5%\"\n",
      "        },\n",
      "        \"tibia\": {\n",
      "            \"Right tibia\": \"34.6 cm\",\n",
      "            \"Left tibia\": \"34.4 cm\",\n",
      "            \"Difference\": \"00.2 cm, right longer 0.6%\"\n",
      "        },\n",
      "        \"total\": {\n",
      "            \"Total right\": \"76.5 cm\",\n",
      "            \"Total left\": \"76.5 cm\",\n",
      "            \"Difference\": \"00.0 cm, equal 0.0%\"\n",
      "        },\n",
      "        \"pixel_distance\": {\n",
      "            \"Left femur\": 1900,\n",
      "            \"Left tibia\": 1550,\n",
      "            \"Right femur\": 1890,\n",
      "            \"Right tibia\": 1560\n",
      "        },\n",
      "        \"details\": {\n",
      "            \"AccessionNumber\": \"100876169\",\n",
      "            \"StudyDescription\": \"XR HIPS TO ANKLES LEG MEASUREMENTS\",\n",
      "            \"SeriesDescription\": \"Lower limbs\",\n",
      "            \"BodyPartExamined\": \"LEG\",\n",
      "            \"FieldOfViewDimensions\": \"[975, 391]\",\n",
      "            \"StationName\": \"EOSRM7\"\n",
      "        }\n",
      "    }\n",
      "]\n"
     ]
    }
   ],
   "source": [
    "# Define the PatientID to filter\n",
    "patient_id = \"71054xfdsar\"\n",
    "\n",
    "# Send GET request to list patient records filtered by PatientID\n",
    "response = requests.get(f\"{BASE_URL}/patients/\", params={\"patient_id\": patient_id})\n",
    "\n",
    "if response.status_code == 200:\n",
    "    print(f\"List of patient records for PatientID {patient_id}:\")\n",
    "    print(json.dumps(response.json(), indent=4))\n",
    "else:\n",
    "    print(\"Error filtering patient records:\", response.text)"
   ]
  },
  {
   "cell_type": "markdown",
   "id": "27cca807",
   "metadata": {},
   "source": [
    "### 3.6. Delete a Patient Record"
   ]
  },
  {
   "cell_type": "code",
   "execution_count": 10,
   "id": "9c5713b3",
   "metadata": {},
   "outputs": [
    {
     "name": "stdout",
     "output_type": "stream",
     "text": [
      "Patient record 61928-1.2.250.1.118.3.1305.235.1.8008.46.1727122139 deleted successfully.\n"
     ]
    }
   ],
   "source": [
    "# Send DELETE request to delete the patient record\n",
    "response = requests.delete(f\"{BASE_URL}/patients/{study_id}\")\n",
    "\n",
    "if response.status_code == 204:\n",
    "    print(f\"Patient record {study_id} deleted successfully.\")\n",
    "else:\n",
    "    print(\"Error deleting patient record:\", response.text)"
   ]
  },
  {
   "cell_type": "markdown",
   "id": "8c5d55d0",
   "metadata": {},
   "source": [
    "## 4. Shut Down Services"
   ]
  },
  {
   "cell_type": "code",
   "execution_count": 11,
   "id": "5f39d59b",
   "metadata": {},
   "outputs": [
    {
     "name": "stdout",
     "output_type": "stream",
     "text": [
      "Shutting down FastAPI service...\n",
      "FastAPI service terminated.\n",
      "Stopping MongoDB container 'mongodb'...\n",
      "MongoDB container 'mongodb' stopped.\n"
     ]
    }
   ],
   "source": [
    "# Function to stop FastAPI subprocess\n",
    "def stop_fastapi(process):\n",
    "    if process.poll() is None:\n",
    "        print(\"Shutting down FastAPI service...\")\n",
    "        process.terminate()\n",
    "        try:\n",
    "            process.wait(timeout=5)\n",
    "            print(\"FastAPI service terminated.\")\n",
    "        except subprocess.TimeoutExpired:\n",
    "            process.kill()\n",
    "            print(\"FastAPI service killed.\")\n",
    "    else:\n",
    "        print(\"FastAPI service is not running.\")\n",
    "\n",
    "# Function to stop MongoDB container\n",
    "def stop_mongodb_container(container):\n",
    "    try:\n",
    "        container.stop()\n",
    "        print(f\"MongoDB container '{container.name}' stopped.\")\n",
    "    except APIError as e:\n",
    "        print(f\"Failed to stop MongoDB container: {e.explanation}\")\n",
    "\n",
    "# Stop FastAPI\n",
    "stop_fastapi(fastapi_process)\n",
    "\n",
    "# Stop MongoDB\n",
    "print(f\"Stopping MongoDB container '{mongodb_container.name}'...\")\n",
    "stop_mongodb_container(mongodb_container)"
   ]
  }
 ],
 "metadata": {
  "kernelspec": {
   "display_name": "Python 3",
   "language": "python",
   "name": "python3"
  },
  "language_info": {
   "codemirror_mode": {
    "name": "ipython",
    "version": 3
   },
   "file_extension": ".py",
   "mimetype": "text/x-python",
   "name": "python",
   "nbconvert_exporter": "python",
   "pygments_lexer": "ipython3",
   "version": "3.8.10"
  }
 },
 "nbformat": 4,
 "nbformat_minor": 5
}
