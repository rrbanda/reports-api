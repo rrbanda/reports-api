{
    "cells": [
     {
      "cell_type": "markdown",
      "metadata": {},
      "source": [
       "# API Interaction Notebook\n",
       "\n",
       "This notebook demonstrates how to interact with the FastAPI service for managing patient data stored in MongoDB. It covers creating, reading, updating, listing, and deleting patient records."
     ]
     },
     {
      "cell_type": "code",
      "execution_count": 1,
      "metadata": {},
      "outputs": [],
      "source": [
       "# Import necessary libraries\n",
       "import requests\n",
       "import json\n",
       "\n",
       "# Suppress insecure request warnings (optional)\n",
       "import urllib3\n",
       "urllib3.disable_warnings(urllib3.exceptions.InsecureRequestWarning)"
     ]
     },
     {
      "cell_type": "code",
      "execution_count": 2,
      "metadata": {},
      "outputs": [],
      "source": [
       "# Define the base URL of the API\n",
       "BASE_URL = \"http://localhost:8000\"  # Update if different"
     ]
     },
     {
      "cell_type": "markdown",
      "metadata": {},
      "source": [
       "## 1. Create a New Patient Record"
     ]
     },
     {
      "cell_type": "code",
      "execution_count": 3,
      "metadata": {},
      "outputs": [],
      "source": [
       "# Define a new patient record\n",
       "new_record = {\n",
       "    \"study_id\": \"61928-1.2.250.1.118.3.1305.235.1.8008.46.1727122139\",\n",
       "    \"info\": {\n",
       "        \"PatientID\": \"71054xfdsar\",\n",
       "        \"PatientName\": \"SMITH^JANE\",\n",
       "        \"PatientAge\": \"012Y\",\n",
       "        \"StudyDate\": \"20240923\"\n",
       "    },\n",
       "    \"femur\": {\n",
       "        \"Right femur\": \"41.8 cm\",\n",
       "        \"Left femur\": \"42.0 cm\",\n",
       "        \"Difference\": \"00.2 cm, left longer 0.5%\"\n",
       "    },\n",
       "    \"tibia\": {\n",
       "        \"Right tibia\": \"34.5 cm\",\n",
       "        \"Left tibia\": \"34.3 cm\",\n",
       "        \"Difference\": \"00.2 cm, right longer 0.6%\"\n",
       "    },\n",
       "    \"total\": {\n",
       "        \"Total right\": \"76.3 cm\",\n",
       "        \"Total left\": \"76.3 cm\",\n",
       "        \"Difference\": \"00.0 cm, equal 0.0%\"\n",
       "    },\n",
       "    \"pixel_distance\": {\n",
       "        \"Left femur\": 1892,\n",
       "        \"Left tibia\": 1544,\n",
       "        \"Right femur\": 1886,\n",
       "        \"Right tibia\": 1555\n",
       "    },\n",
       "    \"details\": {\n",
       "        \"AccessionNumber\": \"100876169\",\n",
       "        \"StudyDescription\": \"XR HIPS TO ANKLES LEG MEASUREMENTS\",\n",
       "        \"SeriesDescription\": \"Lower limbs\",\n",
       "        \"BodyPartExamined\": \"LEG\",\n",
       "        \"FieldOfViewDimensions\": \"[975, 391]\",\n",
       "        \"StationName\": \"EOSRM7\"\n",
       "    }\n",
       "}"
     },
     {
      "cell_type": "code",
      "execution_count": 4,
      "metadata": {},
      "outputs": [],
      "source": [
       "# Send POST request to create a new patient record\n",
       "response = requests.post(f\"{BASE_URL}/patients/\", json=new_record)\n",
       "\n",
       "if response.status_code == 201:\n",
       "    print(\"Patient record created successfully:\")\n",
       "    print(json.dumps(response.json(), indent=4))\n",
       "else:\n",
       "    print(\"Error creating patient record:\", response.text)"
     ]
     },
     {
      "cell_type": "markdown",
      "metadata": {},
      "source": [
       "## 2. Get Patient Record by Study ID"
     ]
     },
     {
      "cell_type": "code",
      "execution_count": 5,
      "metadata": {},
      "outputs": [],
      "source": [
       "# Define the study_id to retrieve\n",
       "study_id = \"61928-1.2.250.1.118.3.1305.235.1.8008.46.1727122139\"\n",
       "\n",
       "# Send GET request to retrieve the patient record\n",
       "response = requests.get(f\"{BASE_URL}/patients/{study_id}\")\n",
       "\n",
       "if response.status_code == 200:\n",
       "    print(f\"Details of patient record {study_id}:\")\n",
       "    print(json.dumps(response.json(), indent=4))\n",
       "else:\n",
       "    print(\"Error fetching patient record:\", response.text)"
     ]
     },
     {
      "cell_type": "markdown",
      "metadata": {},
      "source": [
       "## 3. Update Patient Record"
     ]
     },
     {
      "cell_type": "code",
      "execution_count": 6,
      "metadata": {},
      "outputs": [],
      "source": [
       "# Define the updated patient record\n",
       "updated_record = {\n",
       "    \"study_id\": \"61928-1.2.250.1.118.3.1305.235.1.8008.46.1727122139\",\n",
       "    \"info\": {\n",
       "        \"PatientID\": \"71054xfdsar\",\n",
       "        \"PatientName\": \"SMITH^JANE\",\n",
       "        \"PatientAge\": \"013Y\",  # Updated age\n",
       "        \"StudyDate\": \"20240923\"\n",
       "    },\n",
       "    \"femur\": {\n",
       "        \"Right femur\": \"41.9 cm\",  # Updated measurement\n",
       "        \"Left femur\": \"42.1 cm\",\n",
       "        \"Difference\": \"00.2 cm, left longer 0.5%\"\n",
       "    },\n",
       "    \"tibia\": {\n",
       "        \"Right tibia\": \"34.6 cm\",\n",
       "        \"Left tibia\": \"34.4 cm\",\n",
       "        \"Difference\": \"00.2 cm, right longer 0.6%\"\n",
       "    },\n",
       "    \"total\": {\n",
       "        \"Total right\": \"76.5 cm\",\n",
       "        \"Total left\": \"76.5 cm\",\n",
       "        \"Difference\": \"00.0 cm, equal 0.0%\"\n",
       "    },\n",
       "    \"pixel_distance\": {\n",
       "        \"Left femur\": 1900,\n",
       "        \"Left tibia\": 1550,\n",
       "        \"Right femur\": 1890,\n",
       "        \"Right tibia\": 1560\n",
       "    },\n",
       "    \"details\": {\n",
       "        \"AccessionNumber\": \"100876169\",\n",
       "        \"StudyDescription\": \"XR HIPS TO ANKLES LEG MEASUREMENTS\",\n",
       "        \"SeriesDescription\": \"Lower limbs\",\n",
       "        \"BodyPartExamined\": \"LEG\",\n",
       "        \"FieldOfViewDimensions\": \"[975, 391]\",\n",
       "        \"StationName\": \"EOSRM7\"\n",
       "    }\n",
       "}"
     ]
     },
     {
      "cell_type": "code",
      "execution_count": 7,
      "metadata": {},
      "outputs": [],
      "source": [
       "# Send PUT request to update the patient record\n",
       "response = requests.put(f\"{BASE_URL}/patients/{study_id}\", json=updated_record)\n",
       "\n",
       "if response.status_code == 200:\n",
       "    print(\"Patient record updated successfully:\")\n",
       "    print(json.dumps(response.json(), indent=4))\n",
       "else:\n",
       "    print(\"Error updating patient record:\", response.text)"
     ]
     },
     {
      "cell_type": "markdown",
      "metadata": {},
      "source": [
       "## 4. List All Patient Records"
     ]
     },
     {
      "cell_type": "code",
      "execution_count": 8,
      "metadata": {},
      "outputs": [],
      "source": [
       "# Send GET request to list all patient records\n",
       "response = requests.get(f\"{BASE_URL}/patients/\")\n",
       "\n",
       "if response.status_code == 200:\n",
       "    print(\"List of all patient records:\")\n",
       "    print(json.dumps(response.json(), indent=4))\n",
       "else:\n",
       "    print(\"Error listing patient records:\", response.text)"
     ]
     },
     {
      "cell_type": "markdown",
      "metadata": {},
      "source": [
       "## 5. List Patient Records Filtered by PatientID"
     ]
     },
     {
      "cell_type": "code",
      "execution_count": 9,
      "metadata": {},
      "outputs": [],
      "source": [
       "# Define the PatientID to filter\n",
       "patient_id = \"71054xfdsar\"\n",
       "\n",
       "# Send GET request to list patient records filtered by PatientID\n",
       "response = requests.get(f\"{BASE_URL}/patients/\", params={\"patient_id\": patient_id})\n",
       "\n",
       "if response.status_code == 200:\n",
       "    print(f\"List of patient records for PatientID {patient_id}:\")\n",
       "    print(json.dumps(response.json(), indent=4))\n",
       "else:\n",
       "    print(\"Error filtering patient records:\", response.text)"
     ]
     },
     {
      "cell_type": "markdown",
      "metadata": {},
      "source": [
       "## 6. Delete a Patient Record"
     ]
     },
     {
      "cell_type": "code",
      "execution_count": 10,
      "metadata": {},
      "outputs": [],
      "source": [
       "# Send DELETE request to delete the patient record\n",
       "response = requests.delete(f\"{BASE_URL}/patients/{study_id}\")\n",
       "\n",
       "if response.status_code == 204:\n",
       "    print(f\"Patient record {study_id} deleted successfully.\")\n",
       "else:\n",
       "    print(\"Error deleting patient record:\", response.text)"
     ]
     }
    ],
    "metadata": {
     "kernelspec": {
      "display_name": "Python 3",
      "language": "python",
      "name": "python3"
     },
     "language_info": {
      "codemirror_mode": {
       "name": "ipython",
       "version": 3
      },
      "file_extension": ".py",
      "mimetype": "text/x-python",
      "name": "python",
      "nbconvert_exporter": "python",
      "pygments_lexer": "ipython3",
      "version": "3.8.10"
     }
    },
    "nbformat": 4,
    "nbformat_minor": 5
   }
   
