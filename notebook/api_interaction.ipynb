# notebook/api_interaction.ipynb

import requests
import json

# Base URL of the API
BASE_URL = "http://localhost:8000"

# 1. Create a new patient record
new_record = {
    "study_id": "61928-1.2.250.1.118.3.1305.235.1.8008.46.1727122139",
    "info": {
        "PatientID": "71054xfdsar",
        "PatientName": "SMITH^JANE",
        "PatientAge": "012Y",
        "StudyDate": "20240923"
    },
    "femur": {
        "Right femur": "41.8 cm",
        "Left femur": "42.0 cm",
        "Difference": "00.2 cm, left longer 0.5%"
    },
    "tibia": {
        "Right tibia": "34.5 cm",
        "Left tibia": "34.3 cm",
        "Difference": "00.2 cm, right longer 0.6%"
    },
    "total": {
        "Total right": "76.3 cm",
        "Total left": "76.3 cm",
        "Difference": "00.0 cm, equal 0.0%"
    },
    "pixel_distance": {
        "Left femur": 1892,
        "Left tibia": 1544,
        "Right femur": 1886,
        "Right tibia": 1555
    },
    "details": {
        "AccessionNumber": "100876169",
        "StudyDescription": "XR HIPS TO ANKLES LEG MEASUREMENTS",
        "SeriesDescription": "Lower limbs",
        "BodyPartExamined": "LEG",
        "FieldOfViewDimensions": "[975, 391]",
        "StationName": "EOSRM7"
    }
}

# 1. Create a new patient record
response = requests.post(f"{BASE_URL}/patients/", json=new_record)
if response.status_code == 201:
    print("Patient record created successfully:")
    print(json.dumps(response.json(), indent=4))
else:
    print("Error creating patient record:", response.text)

# 2. Get patient record by study_id
study_id = "61928-1.2.250.1.118.3.1305.235.1.8008.46.1727122139"
response = requests.get(f"{BASE_URL}/patients/{study_id}")
if response.status_code == 200:
    print(f"Details of patient record {study_id}:")
    print(json.dumps(response.json(), indent=4))
else:
    print("Error fetching patient record:", response.text)

# 3. Update patient record
updated_record = {
    "study_id": "61928-1.2.250.1.118.3.1305.235.1.8008.46.1727122139",
    "info": {
        "PatientID": "71054xfdsar",
        "PatientName": "SMITH^JANE",
        "PatientAge": "013Y",  # Updated age
        "StudyDate": "20240923"
    },
    "femur": {
        "Right femur": "41.9 cm",  # Updated measurement
        "Left femur": "42.1 cm",
        "Difference": "00.2 cm, left longer 0.5%"
    },
    "tibia": {
        "Right tibia": "34.6 cm",
        "Left tibia": "34.4 cm",
        "Difference": "00.2 cm, right longer 0.6%"
    },
    "total": {
        "Total right": "76.5 cm",
        "Total left": "76.5 cm",
        "Difference": "00.0 cm, equal 0.0%"
    },
    "pixel_distance": {
        "Left femur": 1900,
        "Left tibia": 1550,
        "Right femur": 1890,
        "Right tibia": 1560
    },
    "details": {
        "AccessionNumber": "100876169",
        "StudyDescription": "XR HIPS TO ANKLES LEG MEASUREMENTS",
        "SeriesDescription": "Lower limbs",
        "BodyPartExamined": "LEG",
        "FieldOfViewDimensions": "[975, 391]",
        "StationName": "EOSRM7"
    }
}

response = requests.put(f"{BASE_URL}/patients/{study_id}", json=updated_record)
if response.status_code == 200:
    print("Patient record updated successfully:")
    print(json.dumps(response.json(), indent=4))
else:
    print("Error updating patient record:", response.text)

# 4. List all patient records
response = requests.get(f"{BASE_URL}/patients/")
if response.status_code == 200:
    print("List of all patient records:")
    print(json.dumps(response.json(), indent=4))
else:
    print("Error listing patient records:", response.text)

# 5. List patient records filtered by PatientID
patient_id = "71054xfdsar"
response = requests.get(f"{BASE_URL}/patients/", params={"patient_id": patient_id})
if response.status_code == 200:
    print(f"List of patient records for PatientID {patient_id}:")
    print(json.dumps(response.json(), indent=4))
else:
    print("Error filtering patient records:", response.text)

# 6. Delete a patient record
response = requests.delete(f"{BASE_URL}/patients/{study_id}")
if response.status_code == 204:
    print(f"Patient record {study_id} deleted successfully.")
else:
    print("Error deleting patient record:", response.text)
